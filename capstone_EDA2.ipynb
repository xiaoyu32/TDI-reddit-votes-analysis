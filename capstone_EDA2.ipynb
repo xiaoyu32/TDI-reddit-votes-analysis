{
 "cells": [
  {
   "cell_type": "code",
   "execution_count": 52,
   "metadata": {},
   "outputs": [],
   "source": [
    "import numpy as np\n",
    "import matplotlib.pyplot as plt\n",
    "import pandas as pd\n",
    "import datetime\n",
    "from collections import Counter\n",
    "import json"
   ]
  },
  {
   "cell_type": "markdown",
   "metadata": {},
   "source": [
    "# Data Preprocessing"
   ]
  },
  {
   "cell_type": "markdown",
   "metadata": {},
   "source": [
    "In order to analyze the underlying structure of the Reddit submissions, I preprocessed the submission information contained in 'submission_info.txt'. In particular, I paid close attention to the author and the subreddit as I am interested in whether there are any patterns between author and subreddit. In this exploratory data analysis, I chose the top 1000 authors and top 1000 subreddits as a starting point and formed a 1000x1000 matrix where the (i,j)-th term is the frequency of jth author submitted to ith subreddit."
   ]
  },
  {
   "cell_type": "code",
   "execution_count": 2,
   "metadata": {},
   "outputs": [],
   "source": [
    "info = pd.read_table('submission_info.txt')\n",
    "\n",
    "author_counter = Counter(info['AUTHOR'])\n",
    "sub_counter = Counter(info['SUBREDDIT'])\n",
    "\n",
    "author1000 = author_counter.most_common(1003)[3:] # the first three authors are trivial \n",
    "sub1000 = sub_counter.most_common(1000)"
   ]
  },
  {
   "cell_type": "code",
   "execution_count": 3,
   "metadata": {},
   "outputs": [],
   "source": [
    "# You may skip this step if author1000_count.json is ready\n",
    "\n",
    "author1000_counter = {}\n",
    "\n",
    "for i, author in enumerate(author1000):\n",
    "    author1000_counter[author[0]] = Counter(info[info['AUTHOR'] == author[0]]['SUBREDDIT'])\n",
    "    \n",
    "with open('author1000_count.json', 'w') as fp:\n",
    "    json.dump(author1000_counter, fp)"
   ]
  },
  {
   "cell_type": "code",
   "execution_count": 105,
   "metadata": {},
   "outputs": [],
   "source": [
    "with open('author1000_count.json') as f:\n",
    "    author1000_count = json.load(f)"
   ]
  },
  {
   "cell_type": "code",
   "execution_count": 107,
   "metadata": {},
   "outputs": [],
   "source": [
    "freq = np.zeros((1000,1000))\n",
    "\n",
    "for i, sub in enumerate(sub1000):\n",
    "    for j, author in enumerate(author1000):\n",
    "        freq[i,j] = author1000_counter[author[0]][sub[0]]"
   ]
  },
  {
   "cell_type": "code",
   "execution_count": 109,
   "metadata": {},
   "outputs": [
    {
     "data": {
      "text/plain": [
       "975253"
      ]
     },
     "execution_count": 109,
     "metadata": {},
     "output_type": "execute_result"
    }
   ],
   "source": [
    "np.sum(freq == 0)"
   ]
  },
  {
   "cell_type": "markdown",
   "metadata": {},
   "source": [
    "The resultant matrix is very sparse. For the actual matrix with even larger dimensions, I may consider saving it as a sparse matrix using scipy.sparse.save_npz"
   ]
  },
  {
   "cell_type": "markdown",
   "metadata": {},
   "source": [
    "# Dimension reduction using SVD"
   ]
  },
  {
   "cell_type": "code",
   "execution_count": 122,
   "metadata": {},
   "outputs": [],
   "source": [
    "from sklearn.decomposition import TruncatedSVD\n",
    "\n",
    "svd = TruncatedSVD(n_components=500)\n",
    "svd.fit(freq.T)\n",
    "\n",
    "explained_var_lst = np.cumsum(svd.explained_variance_ratio_/svd.explained_variance_ratio_.sum())"
   ]
  },
  {
   "cell_type": "code",
   "execution_count": 123,
   "metadata": {},
   "outputs": [
    {
     "data": {
      "image/png": "[encoded data removed]",
      "text/plain": [
       "<Figure size 432x288 with 1 Axes>"
      ]
     },
     "metadata": {
      "needs_background": "light"
     },
     "output_type": "display_data"
    }
   ],
   "source": [
    "plt.plot(explained_var_lst)\n",
    "plt.xlabel('Principle Components')\n",
    "plt.ylabel('Explained variance')\n",
    "plt.xlim([0,200])\n",
    "plt.ylim([0,1])\n",
    "plt.hlines(y=0.9,xmin=0,xmax=500,linestyle='dashed',color='r')\n",
    "plt.show()"
   ]
  },
  {
   "cell_type": "markdown",
   "metadata": {},
   "source": [
    "According to the plot, the top 65 principle components can explain 90% of the explained variance."
   ]
  },
  {
   "cell_type": "code",
   "execution_count": 124,
   "metadata": {},
   "outputs": [
    {
     "data": {
      "text/plain": [
       "(500, 1000)"
      ]
     },
     "execution_count": 124,
     "metadata": {},
     "output_type": "execute_result"
    }
   ],
   "source": [
    "svd.components_.shape"
   ]
  },
  {
   "cell_type": "code",
   "execution_count": 125,
   "metadata": {},
   "outputs": [],
   "source": [
    "Z = svd.fit_transform(X.T)"
   ]
  },
  {
   "cell_type": "code",
   "execution_count": 132,
   "metadata": {
    "scrolled": true
   },
   "outputs": [
    {
     "name": "stdout",
     "output_type": "stream",
     "text": [
      "Component 0\n",
      "Tay_5: 4864.767947953098\n",
      "Pikabu: 1580.1168903073187\n",
      "cosplaygirls: 2.7372578913124386\n",
      "memes: 2.3458956465307357\n",
      " \n",
      "Component 1\n",
      "teenagersnew: 4713.000636514362\n",
      "Kanye: 1.00021484051568\n",
      "pcmasterrace: 0.01341641171378376\n",
      "MemeEconomy: 0.00962120691817023\n",
      " \n",
      "Component 2\n",
      "politics: 3018.8043611087573\n",
      "worldnews: 2766.2932376674635\n",
      "technology: 670.423920562017\n",
      "science: 562.9608618927721\n",
      " \n",
      "Component 3\n",
      "Conservative: 2601.0915058183373\n",
      "The_Donald: 1125.8817060918639\n",
      "worldpolitics: 881.1158452435213\n",
      "POLITIC: 792.4712782866508\n",
      " \n",
      "Component 4\n",
      "worldnews: 2180.2538624702\n",
      "Conservative: 870.3217657870622\n",
      "The_Donald: 260.0636789716309\n",
      "technology: 184.2436271345152\n",
      " \n",
      "Component 5\n",
      "POLITIC: 2610.956656972473\n",
      "AnythingGoesNews: 1381.7232121923346\n",
      "worldnews: 309.0740710767672\n",
      "worldpolitics: 104.81943862457265\n",
      " \n",
      "Component 6\n",
      "Futurology: 1791.1751830791382\n",
      "science: 1609.2657596060694\n",
      "technology: 1436.1262237237293\n",
      "space: 242.93382750725556\n",
      " \n",
      "Component 7\n",
      "nfl: 2255.1180474489356\n",
      "SquaredCircle: 1718.7582250644834\n",
      "nba: 343.63750950639235\n",
      "MMA: 142.66361872473541\n",
      " \n",
      "Component 8\n",
      "The_Donald: 2396.748756990292\n",
      "worldpolitics: 616.9649095360104\n",
      "Republican: 103.13632432463616\n",
      "worldnews: 56.208776123150635\n",
      " \n",
      "Component 9\n",
      "SquaredCircle: 2121.9720590931925\n",
      "anime: 163.25222795189177\n",
      "MMA: 140.1203106671574\n",
      "Animemes: 91.63358740799781\n",
      " \n"
     ]
    }
   ],
   "source": [
    "for i in range(0,10):\n",
    "    #Z_sort = np.argsort(np.abs(Z[:,i]))\n",
    "    Z_sort = np.argsort(Z[:,i])\n",
    "    print('Component ' + str(i))\n",
    "    for j in range(1,5):\n",
    "        sub_index = Z_sort[-j]\n",
    "        sub_title = sub1000[sub_index][0]\n",
    "        sub_weight = Z[sub_index,i]\n",
    "        print(str(sub_title) + ': ' + str(sub_weight))\n",
    "    print(' ')"
   ]
  },
  {
   "cell_type": "markdown",
   "metadata": {},
   "source": [
    "By printing the top 10 components, I can see each component indeed represents a bunch of related subreddit. For example, Component 7 clearly represents the sports subreddit, whereas Component 6 represents mostly science and technology. Interestingly, Component 3,4 and 8 all shared 'r/The_Donald' and they seem to be related to politics and conservative. "
   ]
  },
  {
   "cell_type": "markdown",
   "metadata": {},
   "source": [
    "This intial analysis not only reveals the latent structure of subreddit submissions, but also demonstrates the potential of using reduced dimension for any supervised learning tasks, otherwise the feature space for subreddit would be mostly sparse."
   ]
  },
  {
   "cell_type": "code",
   "execution_count": null,
   "metadata": {},
   "outputs": [],
   "source": []
  }
 ],
 "metadata": {
  "kernelspec": {
   "display_name": "Python 3",
   "language": "python",
   "name": "python3"
  },
  "language_info": {
   "codemirror_mode": {
    "name": "ipython",
    "version": 3
   },
   "file_extension": ".py",
   "mimetype": "text/x-python",
   "name": "python",
   "nbconvert_exporter": "python",
   "pygments_lexer": "ipython3",
   "version": "3.7.4"
  }
 },
 "nbformat": 4,
 "nbformat_minor": 2
}
