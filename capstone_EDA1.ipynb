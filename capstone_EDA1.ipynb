{
 "cells": [
  {
   "cell_type": "code",
   "execution_count": 1,
   "metadata": {},
   "outputs": [],
   "source": [
    "import numpy as np\n",
    "import matplotlib.pyplot as plt\n",
    "import pandas as pd\n",
    "import datetime\n",
    "from collections import Counter\n",
    "import json"
   ]
  },
  {
   "cell_type": "markdown",
   "metadata": {},
   "source": [
    "# Data Preprocessing"
   ]
  },
  {
   "cell_type": "markdown",
   "metadata": {},
   "source": [
    "In this exploratory data analysis, I looked at the data about the authors (the one who posts the thread), which are from 'submission_info.txt'"
   ]
  },
  {
   "cell_type": "code",
   "execution_count": 2,
   "metadata": {},
   "outputs": [],
   "source": [
    "info = pd.read_table('submission_info.txt')"
   ]
  },
  {
   "cell_type": "markdown",
   "metadata": {},
   "source": [
    "As shown above, 'submission_info.txt' contains the submission ID, subreddit, thread title, author, number of comments, whether is is NSFW, score (which is defined as upvote - downvote), percentage of upvoted and its original url."
   ]
  },
  {
   "cell_type": "code",
   "execution_count": 3,
   "metadata": {
    "scrolled": false
   },
   "outputs": [
    {
     "data": {
      "text/html": [
       "<div>\n",
       "<style scoped>\n",
       "    .dataframe tbody tr th:only-of-type {\n",
       "        vertical-align: middle;\n",
       "    }\n",
       "\n",
       "    .dataframe tbody tr th {\n",
       "        vertical-align: top;\n",
       "    }\n",
       "\n",
       "    .dataframe thead th {\n",
       "        text-align: right;\n",
       "    }\n",
       "</style>\n",
       "<table border=\"1\" class=\"dataframe\">\n",
       "  <thead>\n",
       "    <tr style=\"text-align: right;\">\n",
       "      <th></th>\n",
       "      <th>SUBMISSION_ID</th>\n",
       "      <th>SUBREDDIT</th>\n",
       "      <th>TITLE</th>\n",
       "      <th>AUTHOR</th>\n",
       "      <th>#_COMMENTS</th>\n",
       "      <th>NSFW</th>\n",
       "      <th>SCORE</th>\n",
       "      <th>UPVOTED_%</th>\n",
       "      <th>LINK</th>\n",
       "    </tr>\n",
       "  </thead>\n",
       "  <tbody>\n",
       "    <tr>\n",
       "      <td>0</td>\n",
       "      <td>t3_e7gje4</td>\n",
       "      <td>houston</td>\n",
       "      <td>downtown houston at sunset</td>\n",
       "      <td>adamisraelvaladez</td>\n",
       "      <td>32</td>\n",
       "      <td>NaN</td>\n",
       "      <td>952</td>\n",
       "      <td>0.97</td>\n",
       "      <td>/r/houston/comments/e7gje4/downtown_houston_at...</td>\n",
       "    </tr>\n",
       "    <tr>\n",
       "      <td>1</td>\n",
       "      <td>t3_d8vv6h</td>\n",
       "      <td>ReagentTesting</td>\n",
       "      <td>Mescaline Liebermann inconsistency</td>\n",
       "      <td>drugsmom</td>\n",
       "      <td>0</td>\n",
       "      <td>NaN</td>\n",
       "      <td>2</td>\n",
       "      <td>1.00</td>\n",
       "      <td>/r/ReagentTesting/comments/d8vv6h/mescaline_li...</td>\n",
       "    </tr>\n",
       "    <tr>\n",
       "      <td>2</td>\n",
       "      <td>t3_6gdv4s</td>\n",
       "      <td>legaladvice</td>\n",
       "      <td>What does this mean?</td>\n",
       "      <td>Alreadyownanacxount</td>\n",
       "      <td>3</td>\n",
       "      <td>NaN</td>\n",
       "      <td>0</td>\n",
       "      <td>0.33</td>\n",
       "      <td>/r/legaladvice/comments/6gdv4s/what_does_this_...</td>\n",
       "    </tr>\n",
       "    <tr>\n",
       "      <td>3</td>\n",
       "      <td>t3_bsh6pw</td>\n",
       "      <td>analog</td>\n",
       "      <td>untitled | nikon f100 | ilford hp5</td>\n",
       "      <td>24rocketman</td>\n",
       "      <td>43</td>\n",
       "      <td>NaN</td>\n",
       "      <td>1666</td>\n",
       "      <td>0.99</td>\n",
       "      <td>/r/analog/comments/bsh6pw/untitled_nikon_f100_...</td>\n",
       "    </tr>\n",
       "    <tr>\n",
       "      <td>4</td>\n",
       "      <td>t3_1xuutf</td>\n",
       "      <td>PS4</td>\n",
       "      <td>Unlimited ps+ trials</td>\n",
       "      <td>noahtessier</td>\n",
       "      <td>1</td>\n",
       "      <td>NaN</td>\n",
       "      <td>0</td>\n",
       "      <td>0.18</td>\n",
       "      <td>/r/PS4/comments/1xuutf/unlimited_ps_trials/</td>\n",
       "    </tr>\n",
       "  </tbody>\n",
       "</table>\n",
       "</div>"
      ],
      "text/plain": [
       "  SUBMISSION_ID       SUBREDDIT                               TITLE  \\\n",
       "0     t3_e7gje4         houston          downtown houston at sunset   \n",
       "1     t3_d8vv6h  ReagentTesting  Mescaline Liebermann inconsistency   \n",
       "2     t3_6gdv4s     legaladvice                What does this mean?   \n",
       "3     t3_bsh6pw          analog  untitled | nikon f100 | ilford hp5   \n",
       "4     t3_1xuutf             PS4                Unlimited ps+ trials   \n",
       "\n",
       "                AUTHOR  #_COMMENTS NSFW  SCORE  UPVOTED_%  \\\n",
       "0    adamisraelvaladez          32  NaN    952       0.97   \n",
       "1             drugsmom           0  NaN      2       1.00   \n",
       "2  Alreadyownanacxount           3  NaN      0       0.33   \n",
       "3          24rocketman          43  NaN   1666       0.99   \n",
       "4          noahtessier           1  NaN      0       0.18   \n",
       "\n",
       "                                                LINK  \n",
       "0  /r/houston/comments/e7gje4/downtown_houston_at...  \n",
       "1  /r/ReagentTesting/comments/d8vv6h/mescaline_li...  \n",
       "2  /r/legaladvice/comments/6gdv4s/what_does_this_...  \n",
       "3  /r/analog/comments/bsh6pw/untitled_nikon_f100_...  \n",
       "4        /r/PS4/comments/1xuutf/unlimited_ps_trials/  "
      ]
     },
     "execution_count": 3,
     "metadata": {},
     "output_type": "execute_result"
    }
   ],
   "source": [
    "info.head()"
   ]
  },
  {
   "cell_type": "markdown",
   "metadata": {},
   "source": [
    "As an initial analysis, I focused on the author and the subreddit of each threads as I am interested in whether there are any underlying structures between author and subreddit. As each subreddit correponds to a specific topic, I would expect most authors only post in subreddits they are interested in rather than post in random subreddits. \n",
    "\n",
    "In this exploratory data analysis, I chose the top 1000 authors (in terms of submission) and top 1000 subreddits (in terms of submission) as a starting point and formed a 1000x1000 matrix where the (i,j)-th term is the frequency of ith author submitted to jth subreddit."
   ]
  },
  {
   "cell_type": "code",
   "execution_count": 4,
   "metadata": {},
   "outputs": [],
   "source": [
    "author_counter = Counter(info['AUTHOR'])\n",
    "sub_counter = Counter(info['SUBREDDIT'])\n",
    "\n",
    "# the first three authors are trivial: NaN, deleted and autoModerator\n",
    "author1000 = author_counter.most_common(1003)[3:] \n",
    "sub1000 = sub_counter.most_common(1000)"
   ]
  },
  {
   "cell_type": "markdown",
   "metadata": {},
   "source": [
    "The following are the codes that generate the frequency matrix. It is time-consuming so I have stored the resulting dictionary in a json file"
   ]
  },
  {
   "cell_type": "markdown",
   "metadata": {},
   "source": [
    "\"\"\"\n",
    "\n",
    "author1000_counter = {}\n",
    "\n",
    "for i, author in enumerate(author1000):\n",
    "    author1000_counter[author[0]] = Counter(info[info['AUTHOR'] == author[0]]['SUBREDDIT'])\n",
    "    \n",
    "with open('author1000_count.json', 'w') as fp:\n",
    "    json.dump(author1000_counter, fp)\n",
    "\"\"\""
   ]
  },
  {
   "cell_type": "code",
   "execution_count": 5,
   "metadata": {},
   "outputs": [],
   "source": [
    "with open('author1000_count.json') as f:\n",
    "    author1000_count = json.load(f)"
   ]
  },
  {
   "cell_type": "code",
   "execution_count": 6,
   "metadata": {},
   "outputs": [],
   "source": [
    "freq = np.zeros((1000,1000))\n",
    "\n",
    "for i, author in enumerate(author1000):\n",
    "    for j, sub in enumerate(sub1000):\n",
    "        if sub[0] in author1000_count[author[0]]:\n",
    "            freq[i,j] = author1000_count[author[0]][sub[0]]"
   ]
  },
  {
   "cell_type": "code",
   "execution_count": 7,
   "metadata": {},
   "outputs": [
    {
     "data": {
      "text/plain": [
       "0.024747"
      ]
     },
     "execution_count": 7,
     "metadata": {},
     "output_type": "execute_result"
    }
   ],
   "source": [
    "np.sum(freq!=0)/(1000*1000)"
   ]
  },
  {
   "cell_type": "markdown",
   "metadata": {},
   "source": [
    "As shown above, only 2.5% of the entries are nonzero. The resultant matrix is very sparse. This shows that the each of the top1000 authors only submits to a small number of subreddits respectively."
   ]
  },
  {
   "cell_type": "markdown",
   "metadata": {},
   "source": [
    "# Principle component analysis"
   ]
  },
  {
   "cell_type": "markdown",
   "metadata": {},
   "source": [
    "In this session, I conducted dimension reduction on the frequency matrix. Before the SVD, I first normalized the frequency matrix for each author."
   ]
  },
  {
   "cell_type": "code",
   "execution_count": 8,
   "metadata": {},
   "outputs": [],
   "source": [
    "normalized_freq = np.zeros((1000,1000))\n",
    "\n",
    "for i, author_freq in enumerate(freq):\n",
    "    if sum(author_freq):\n",
    "        normalized_freq[i] = author_freq/sum(author_freq)"
   ]
  },
  {
   "cell_type": "markdown",
   "metadata": {},
   "source": [
    "Since the matrix is sparse, truncatedSVD is used instead of full SVD. "
   ]
  },
  {
   "cell_type": "code",
   "execution_count": 9,
   "metadata": {},
   "outputs": [],
   "source": [
    "from sklearn.decomposition import TruncatedSVD\n",
    "\n",
    "svd = TruncatedSVD(n_components=100)\n",
    "svd.fit(normalized_freq.T)\n",
    "\n",
    "explained_var_lst = np.cumsum(svd.explained_variance_ratio_/svd.explained_variance_ratio_.sum())"
   ]
  },
  {
   "cell_type": "code",
   "execution_count": 10,
   "metadata": {},
   "outputs": [
    {
     "data": {
      "image/png": "[encoded data removed]",
      "text/plain": [
       "<Figure size 432x288 with 1 Axes>"
      ]
     },
     "metadata": {
      "needs_background": "light"
     },
     "output_type": "display_data"
    }
   ],
   "source": [
    "plt.plot(explained_var_lst)\n",
    "plt.xlabel('Principle Components')\n",
    "plt.ylabel('Explained variance')\n",
    "plt.xlim([0,100])\n",
    "plt.ylim([0,1])\n",
    "plt.hlines(y=0.9,xmin=0,xmax=500,linestyle='dashed',color='r')\n",
    "plt.show()"
   ]
  },
  {
   "cell_type": "code",
   "execution_count": 115,
   "metadata": {},
   "outputs": [
    {
     "data": {
      "text/plain": [
       "74"
      ]
     },
     "execution_count": 115,
     "metadata": {},
     "output_type": "execute_result"
    }
   ],
   "source": [
    "np.where(explained_var_lst>0.9)[0][0]"
   ]
  },
  {
   "cell_type": "markdown",
   "metadata": {},
   "source": [
    "According to the plot, the top 74 principle components can explain 90% of the explained variance."
   ]
  },
  {
   "cell_type": "code",
   "execution_count": 11,
   "metadata": {},
   "outputs": [],
   "source": [
    "Z = svd.fit_transform(normalized_freq.T)"
   ]
  },
  {
   "cell_type": "markdown",
   "metadata": {},
   "source": [
    "Below are the top 20 principle components, which represents the hidden structures among the top 1000 authors. The subreddit within each component are indeed related. Out of the 20 principle components, 40% are related to politics, while the rests are related to ACG, sports, pop culture and NSFW. "
   ]
  },
  {
   "cell_type": "code",
   "execution_count": 117,
   "metadata": {
    "scrolled": true
   },
   "outputs": [
    {
     "name": "stdout",
     "output_type": "stream",
     "text": [
      "Component 0\n",
      "politics: 4.9077938906061656\n",
      "worldnews: 0.5502587384344656\n",
      "worldpolitics: 0.2721096942635661\n",
      "news: 0.1985780686400405\n",
      "conspiracy: 0.16007305239540262\n",
      " \n",
      "Component 1\n",
      "The_Donald: 3.5238420890678004\n",
      "worldpolitics: 0.314330222970097\n",
      "POLITIC: 0.15319774720579543\n",
      "Conservative: 0.11822232077888385\n",
      "conspiracy: 0.11242129109338204\n",
      " \n",
      "Component 2\n",
      "nfl: 2.937555783530384\n",
      "nba: 0.39248412043560915\n",
      "SquaredCircle: 0.20562006812005565\n",
      "soccer: 0.19916767269855218\n",
      "baseball: 0.136872668108\n",
      " \n",
      "Component 3\n",
      "POLITIC: 2.4621090768965295\n",
      "worldpolitics: 1.0663378922259463\n",
      "WayOfTheBern: 0.4983967438288485\n",
      "AnythingGoesNews: 0.4557728704390767\n",
      "Conservative: 0.4071004193041503\n",
      " \n",
      "Component 4\n",
      "awwnime: 2.5664004503997444\n",
      "Pikabu: 0.5953930931149194\n",
      "AzureLane: 0.12040666153475364\n",
      "hentai: 0.11160738165359028\n",
      "Animemes: 0.10012336037603031\n",
      " \n",
      "Component 5\n",
      "WayOfTheBern: 1.7884572515996608\n",
      "worldpolitics: 1.2742453267931724\n",
      "Conservative: 0.6469022852020414\n",
      "ukpolitics: 0.4853058879390496\n",
      "conspiracy: 0.3157418806219059\n",
      " \n",
      "Component 6\n",
      "Conservative: 2.407023483718832\n",
      "ukpolitics: 0.16760516208778917\n",
      "Republican: 0.1290067661174611\n",
      "progun: 0.09361203642715657\n",
      "worldnews: 0.07676159489507378\n",
      " \n",
      "Component 7\n",
      "Pikabu: 2.406965120675217\n",
      "ukpolitics: 0.6763460858436585\n",
      "liberta: 0.19174547917179305\n",
      "Tay_5: 0.06315498994518237\n",
      "unitedkingdom: 0.041491656898707395\n",
      " \n",
      "Component 8\n",
      "ukpolitics: 2.402544747231028\n",
      "awwnime: 0.15007731144338543\n",
      "unitedkingdom: 0.14187010009175657\n",
      "LabourUK: 0.09663249417925499\n",
      "POLITIC: 0.08559031198790244\n",
      " \n",
      "Component 9\n",
      "worldpolitics: 1.8839850566009542\n",
      "conspiracy: 0.15274813846500285\n",
      "PoliticalHumor: 0.11313926640792232\n",
      "worldnews: 0.06113181925509161\n",
      "Christianity: 0.0417195764920525\n",
      " \n",
      "Component 10\n",
      "nba: 2.426893084256119\n",
      "soccer: 0.36209967705147494\n",
      "SquaredCircle: 0.14250227727230258\n",
      "lakers: 0.07431967138140325\n",
      "Games: 0.07130740127946784\n",
      " \n",
      "Component 11\n",
      "soccer: 2.343141202639482\n",
      "kpop: 0.1801059140222873\n",
      "MLS: 0.1218461428029794\n",
      "reddevils: 0.06959138094931404\n",
      "AskReddit: 0.05618892488345218\n",
      " \n",
      "Component 12\n",
      "nsfw: 1.8029277531983068\n",
      "Celebs: 0.707463246206142\n",
      "NSFW_GIF: 0.6121155336993898\n",
      "goddesses: 0.5422476752193043\n",
      "BustyPetite: 0.3927726626558391\n",
      " \n",
      "Component 13\n",
      "SquaredCircle: 2.246277982391105\n",
      "Animemes: 0.07450325583769948\n",
      "soccer: 0.05210383803117698\n",
      "MMA: 0.04651857649848643\n",
      "Music: 0.03667424662813827\n",
      " \n",
      "Component 14\n",
      "kpop: 2.1301896135032745\n",
      "tumblr: 0.15412808558358262\n",
      "videos: 0.058206008536500486\n",
      "popheads: 0.04504527211293021\n",
      "bangtan: 0.044606270633396415\n",
      " \n",
      "Component 15\n",
      "rule34: 1.8641865771313364\n",
      "hentai: 0.5583006752581156\n",
      "cosplaygirls: 0.4082260452740099\n",
      "futanari: 0.3947058979521747\n",
      "MonsterGirl: 0.3192930659732318\n",
      " \n",
      "Component 16\n",
      "gifs: 0.9955736439755941\n",
      "pics: 0.8024301128064472\n",
      "aww: 0.8009799839510299\n",
      "funny: 0.4787656277664332\n",
      "AskReddit: 0.47189490176165466\n",
      " \n",
      "Component 17\n",
      "podemos: 1.9999998458863275\n",
      "environment: 0.00015103930820082085\n",
      "chile: 0.00014787411577249087\n",
      "Showerthoughts: 0.00012752096042556237\n",
      "listentothis: 0.00011157463477115078\n",
      " \n",
      "Component 18\n",
      "liberta: 1.2278603266191486\n",
      "conspiracy: 0.7179962958204575\n",
      "nsfw: 0.5032631289608664\n",
      "NSFW_GIF: 0.17289874363884772\n",
      "worldnews: 0.15548437902202003\n",
      " \n",
      "Component 19\n",
      "liberta: 1.1552637836332502\n",
      "Celebs: 0.8290477441528107\n",
      "gentlemanboners: 0.5893300439172551\n",
      "conspiracy: 0.5167176800815154\n",
      "goddesses: 0.5048030548963858\n",
      " \n"
     ]
    }
   ],
   "source": [
    "for i in range(0,20):\n",
    "    Z_sort = np.argsort(Z[:,i])\n",
    "    print('Component ' + str(i))\n",
    "    for j in range(1,6):\n",
    "        sub_index = Z_sort[-j]\n",
    "        sub_title = sub1000[sub_index][0]\n",
    "        sub_weight = Z[sub_index,i]\n",
    "        print(str(sub_title) + ': ' + str(sub_weight))\n",
    "    print(' ')"
   ]
  },
  {
   "cell_type": "markdown",
   "metadata": {},
   "source": [
    "This intial analysis reveals that there are latent structure of subreddit submissions. Instead of considering indiviual authors, we can consider them as different groups of authors, each associated with several related subreddits."
   ]
  },
  {
   "cell_type": "code",
   "execution_count": null,
   "metadata": {},
   "outputs": [],
   "source": []
  }
 ],
 "metadata": {
  "kernelspec": {
   "display_name": "Python 3",
   "language": "python",
   "name": "python3"
  },
  "language_info": {
   "codemirror_mode": {
    "name": "ipython",
    "version": 3
   },
   "file_extension": ".py",
   "mimetype": "text/x-python",
   "name": "python",
   "nbconvert_exporter": "python",
   "pygments_lexer": "ipython3",
   "version": "3.7.4"
  }
 },
 "nbformat": 4,
 "nbformat_minor": 2
}
